{
 "cells": [
  {
   "cell_type": "code",
   "execution_count": 1,
   "id": "2438d09d",
   "metadata": {},
   "outputs": [],
   "source": [
    "class chatbook:\n",
    "    def __init__(self):\n",
    "        self.username = ''\n",
    "        self.password = ''\n",
    "        self.loggedin = False\n",
    "        self.menu()\n",
    "\n",
    "    def menu(self):\n",
    "        user_input = input(\"\"\"Welcome to chatbook ! How would you like to proceed?\n",
    "                            1. Press 1 to signup\n",
    "                            2. Press 2 to signin\n",
    "                            3. Press 3 to write a post\n",
    "                            4. Press 4 to message a friend\n",
    "                            5. Press any other key to exit\"\"\")\n",
    "        if user_input == '1':\n",
    "            pass\n",
    "        elif user_input == '2':\n",
    "            pass\n",
    "        elif user_input == '3':\n",
    "            pass\n",
    "        elif user_input == '4':\n",
    "            pass\n",
    "        else:\n",
    "            exit()\n",
    "\n",
    "    def signup(self):\n",
    "        email = input(\"enter your email -> \")\n",
    "        pwd = input(\"setup your password -> \")\n",
    "        self.username = email\n",
    "        self.password = pwd\n",
    "        print(\"You have sighed up successfully !\")\n",
    "        print(\"\\n\")\n",
    "        self.main()\n",
    "\n",
    "obj = chatbook()"
   ]
  },
  {
   "cell_type": "code",
   "execution_count": null,
   "id": "bcdb0a7c",
   "metadata": {},
   "outputs": [],
   "source": []
  }
 ],
 "metadata": {
  "kernelspec": {
   "display_name": "Python 3",
   "language": "python",
   "name": "python3"
  },
  "language_info": {
   "codemirror_mode": {
    "name": "ipython",
    "version": 3
   },
   "file_extension": ".py",
   "mimetype": "text/x-python",
   "name": "python",
   "nbconvert_exporter": "python",
   "pygments_lexer": "ipython3",
   "version": "3.11.9"
  }
 },
 "nbformat": 4,
 "nbformat_minor": 5
}
