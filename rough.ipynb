{
 "cells": [
  {
   "cell_type": "markdown",
   "id": "8515b770",
   "metadata": {},
   "source": [
    "<h3>Why python is called OOPS"
   ]
  },
  {
   "cell_type": "code",
   "execution_count": null,
   "id": "51b72ed5",
   "metadata": {},
   "outputs": [
    {
     "name": "stdout",
     "output_type": "stream",
     "text": [
      "<class 'list'>\n",
      "<class 'str'>\n",
      "<class 'int'>\n"
     ]
    }
   ],
   "source": [
    "lst=[1,2,3]\n",
    "str=\"mlops\"\n",
    "i=155 \n",
    "print(type(lst))\n",
    "print(type(str))\n",
    "print(type(i))"
   ]
  },
  {
   "cell_type": "markdown",
   "id": "9427bab1",
   "metadata": {},
   "source": [
    "<h3>code reusablity by import class"
   ]
  },
  {
   "cell_type": "code",
   "execution_count": null,
   "id": "464e663f",
   "metadata": {},
   "outputs": [],
   "source": [
    "from oops_proj import chatbook\n",
    "user1=chatbook()"
   ]
  },
  {
   "cell_type": "markdown",
   "id": "e87bddd6",
   "metadata": {},
   "source": [
    "<h3>Function V/S Method"
   ]
  },
  {
   "cell_type": "code",
   "execution_count": 4,
   "id": "cb133802",
   "metadata": {},
   "outputs": [
    {
     "name": "stdout",
     "output_type": "stream",
     "text": [
      "3\n",
      "misty says: Bow Bow!\n"
     ]
    }
   ],
   "source": [
    "#function \n",
    "lst=[1,2,3]\n",
    "print(len(lst)) #function len is directly called here\n",
    "\n",
    "#method\n",
    "class dog:\n",
    "    def __init__(self, name):\n",
    "        self.name=name\n",
    "    def bark(self):\n",
    "        return f\"{self.name} says: Bow Bow!\"\n",
    "    \n",
    "my_dog=dog(\"misty\")  #creating object\n",
    "print(my_dog.bark())  #method is called by accessing class"
   ]
  },
  {
   "cell_type": "markdown",
   "id": "7e3a1a6f",
   "metadata": {},
   "source": [
    "<h3>\"self\" explained"
   ]
  },
  {
   "cell_type": "code",
   "execution_count": 8,
   "id": "c7e4f5d2",
   "metadata": {},
   "outputs": [
    {
     "name": "stdout",
     "output_type": "stream",
     "text": [
      "2471530972688\n",
      "2471530972688\n",
      "misty says: Bow Bow!\n"
     ]
    }
   ],
   "source": [
    "class dog:\n",
    "    def __init__(self, name):\n",
    "        print(id(self))\n",
    "        self.name=name\n",
    "    def bark(self):\n",
    "        return f\"{self.name} says: Bow Bow!\"\n",
    "my_dog=dog(\"misty\")\n",
    "print(id(my_dog))   \n",
    "print(my_dog.bark())\n",
    "# here address of self and object is same, \n",
    "# that means self ensures that attributes and methods of class reside in same address,\n",
    "# so the created object can access all attributes and methods. \n",
    "# if we don't use self here in either attributes or methods, \n",
    "# it'll get stored under different id or address and the created object cant access the method or attribute in the class\n"
   ]
  },
  {
   "cell_type": "code",
   "execution_count": 12,
   "id": "b5689d03",
   "metadata": {},
   "outputs": [
    {
     "name": "stdout",
     "output_type": "stream",
     "text": [
      "2471531613520\n",
      "2471531613520\n"
     ]
    },
    {
     "ename": "TypeError",
     "evalue": "dog.bark() takes 0 positional arguments but 1 was given",
     "output_type": "error",
     "traceback": [
      "\u001b[31m---------------------------------------------------------------------------\u001b[39m",
      "\u001b[31mTypeError\u001b[39m                                 Traceback (most recent call last)",
      "\u001b[36mCell\u001b[39m\u001b[36m \u001b[39m\u001b[32mIn[12]\u001b[39m\u001b[32m, line 12\u001b[39m\n\u001b[32m     10\u001b[39m my_dog=dog(\u001b[33m\"\u001b[39m\u001b[33mmisty\u001b[39m\u001b[33m\"\u001b[39m)\n\u001b[32m     11\u001b[39m \u001b[38;5;28mprint\u001b[39m(\u001b[38;5;28mid\u001b[39m(my_dog))   \n\u001b[32m---> \u001b[39m\u001b[32m12\u001b[39m \u001b[38;5;28mprint\u001b[39m(\u001b[43mmy_dog\u001b[49m\u001b[43m.\u001b[49m\u001b[43mbark\u001b[49m\u001b[43m(\u001b[49m\u001b[43m)\u001b[49m)\n",
      "\u001b[31mTypeError\u001b[39m: dog.bark() takes 0 positional arguments but 1 was given"
     ]
    }
   ],
   "source": [
    "# if we don't use self here in either attributes or methods, \n",
    "# it'll get stored under different id or address and the created object cant access the method or attribute in the class\n",
    "\n",
    "class dog:\n",
    "    def __init__(self, name):\n",
    "        print(id(self))\n",
    "        self.name=name\n",
    "    def bark():\n",
    "        return f\"says: Bow Bow!\"\n",
    "my_dog=dog(\"misty\")\n",
    "print(id(my_dog))   \n",
    "print(my_dog.bark())"
   ]
  },
  {
   "cell_type": "code",
   "execution_count": 15,
   "id": "da268fe3",
   "metadata": {},
   "outputs": [
    {
     "name": "stdout",
     "output_type": "stream",
     "text": [
      "2471532496272\n",
      "2471532496272\n",
      "misty says: Bow Bow!\n",
      "2471532502928\n",
      "2471532502928\n",
      "jessy says: Bow Bow!\n"
     ]
    }
   ],
   "source": [
    "# here self id changes for every object created \n",
    "class dog:\n",
    "    def __init__(self, name):\n",
    "        print(id(self))\n",
    "        self.name=name\n",
    "    def bark(self):\n",
    "        return f\"{self.name} says: Bow Bow!\"\n",
    "misty=dog(\"misty\")\n",
    "print(id(misty))   \n",
    "print(misty.bark())\n",
    "jessy=dog(\"jessy\")\n",
    "print(id(jessy))   \n",
    "print(jessy.bark())"
   ]
  },
  {
   "cell_type": "markdown",
   "id": "35bdf742",
   "metadata": {},
   "source": [
    "<h3>Creating attribute outside class"
   ]
  },
  {
   "cell_type": "code",
   "execution_count": null,
   "id": "5d16e99d",
   "metadata": {},
   "outputs": [
    {
     "name": "stdout",
     "output_type": "stream",
     "text": [
      "misty\n"
     ]
    },
    {
     "data": {
      "text/plain": [
       "'misty says: Bow Bow!'"
      ]
     },
     "execution_count": 19,
     "metadata": {},
     "output_type": "execute_result"
    }
   ],
   "source": [
    "from types import MethodType\n",
    "class dog:\n",
    "    def __init__(self):\n",
    "        pass\n",
    "\n",
    "misty=dog()\n",
    "misty.name=\"misty\"\n",
    "print(misty.name)\n",
    "\n",
    "# we can create method also outside, but we should attach it using MethodType\n",
    "def bark(self):\n",
    "    return f\"{self.name} says: Bow Bow!\"\n",
    "\n",
    "misty.bark=MethodType(bark, misty)\n",
    "misty.bark()\n"
   ]
  },
  {
   "cell_type": "markdown",
   "id": "e6c5a181",
   "metadata": {},
   "source": [
    "<h3>Encapsulation"
   ]
  },
  {
   "cell_type": "code",
   "execution_count": null,
   "id": "9a1f7c09",
   "metadata": {},
   "outputs": [
    {
     "name": "stdout",
     "output_type": "stream",
     "text": [
      "dog says: Bow Bow!\n",
      "dog\n"
     ]
    },
    {
     "ename": "AttributeError",
     "evalue": "'dog' object has no attribute '__name'",
     "output_type": "error",
     "traceback": [
      "\u001b[31m---------------------------------------------------------------------------\u001b[39m",
      "\u001b[31mAttributeError\u001b[39m                            Traceback (most recent call last)",
      "\u001b[36mCell\u001b[39m\u001b[36m \u001b[39m\u001b[32mIn[23]\u001b[39m\u001b[32m, line 14\u001b[39m\n\u001b[32m     12\u001b[39m \u001b[38;5;28mprint\u001b[39m(my_dog.bark())\n\u001b[32m     13\u001b[39m \u001b[38;5;28mprint\u001b[39m(my_dog.name)\n\u001b[32m---> \u001b[39m\u001b[32m14\u001b[39m \u001b[38;5;28mprint\u001b[39m(\u001b[43mmy_dog\u001b[49m\u001b[43m.\u001b[49m\u001b[43m__name\u001b[49m)\n",
      "\u001b[31mAttributeError\u001b[39m: 'dog' object has no attribute '__name'"
     ]
    }
   ],
   "source": [
    "# securing attributes, hiding it from external users, where external user can't access\n",
    "# created using __, ex: instead of self.name, we use self.__name\n",
    "class dog:\n",
    "    def __init__(self):\n",
    "        self.__name=\"misty\"\n",
    "        self.name=\"dog\"\n",
    "\n",
    "    def bark(self):\n",
    "        return f\"{self.name} says: Bow Bow!\"\n",
    "    \n",
    "my_dog=dog()  #creating object\n",
    "print(my_dog.bark())\n",
    "print(my_dog.name)\n",
    "print(my_dog.__name)   #->This will throw an error\n"
   ]
  },
  {
   "cell_type": "code",
   "execution_count": null,
   "id": "1adbabbd",
   "metadata": {},
   "outputs": [
    {
     "name": "stdout",
     "output_type": "stream",
     "text": [
      "dog says: Bow Bow!\n",
      "dog\n",
      "misty\n"
     ]
    }
   ],
   "source": [
    "# but these can be accessed by using class name\n",
    "\n",
    "class dog:\n",
    "    def __init__(self):\n",
    "        self.__name=\"misty\"\n",
    "        self.name=\"dog\"\n",
    "\n",
    "    def bark(self):\n",
    "        return f\"{self.name} says: Bow Bow!\"\n",
    "    \n",
    "my_dog=dog()  #creating object\n",
    "print(my_dog.bark())\n",
    "print(my_dog.name)\n",
    "print(my_dog._dog__name)  # obj._class__name \n",
    "\n",
    "# So therefore, we can't completely protect attributes in python\n",
    "# whereas in other languages like java, we can hide and protect,\n",
    "# whereas in python, we can just hide, but can't protect completely!"
   ]
  },
  {
   "cell_type": "markdown",
   "id": "e08816e3",
   "metadata": {},
   "source": [
    "<h3>getter & setter"
   ]
  },
  {
   "cell_type": "code",
   "execution_count": 27,
   "id": "cb9732a6",
   "metadata": {},
   "outputs": [
    {
     "name": "stdout",
     "output_type": "stream",
     "text": [
      "misty\n",
      "jessy\n"
     ]
    }
   ],
   "source": [
    "# To use this hidden attributes, not everyone will be knowing tricks,\n",
    "# So to get or set this hidden attributes, we include getter and setter functions,\n",
    "# as these functions are within class, these functions can get and set these hidden attributes.\n",
    "\n",
    "class dog:\n",
    "    def __init__(self):\n",
    "        self.__name=\"misty\"\n",
    "\n",
    "    def get_name(self):\n",
    "        return self.__name\n",
    "    \n",
    "    def set_name(self, val):\n",
    "        self.__name=val\n",
    "    \n",
    "my_dog=dog()  #creating object\n",
    "print(my_dog.get_name())\n",
    "my_dog.set_name(\"jessy\")\n",
    "print(my_dog.get_name())\n"
   ]
  },
  {
   "cell_type": "markdown",
   "id": "d0dc951e",
   "metadata": {},
   "source": [
    "<h3>Static Concept"
   ]
  },
  {
   "cell_type": "markdown",
   "id": "bb451321",
   "metadata": {},
   "source": [
    "<h5>issue"
   ]
  },
  {
   "cell_type": "code",
   "execution_count": null,
   "id": "9b503e4d",
   "metadata": {},
   "outputs": [
    {
     "name": "stdout",
     "output_type": "stream",
     "text": [
      "1\n",
      "1\n",
      "1\n"
     ]
    }
   ],
   "source": [
    "# You can't update attribute using normal += with class, \n",
    "# as whenever new object creates, it initialises class from scratch\n",
    "\n",
    "# for example, lets say, we want to give id, \n",
    "# and id shld get updated by +1 for every user gets created\n",
    "\n",
    "class person:\n",
    "    def __init__(self):\n",
    "        self.id=0       #initializing\n",
    "        self.id+=1      #updation\n",
    "\n",
    "user1=person()\n",
    "print(user1.id)\n",
    "\n",
    "user2=person()\n",
    "print(user2.id)\n",
    "\n",
    "user3=person()\n",
    "print(user3.id)"
   ]
  },
  {
   "cell_type": "markdown",
   "id": "cfe7ab47",
   "metadata": {},
   "source": [
    "<h5>Solution -> Static attribute & Method"
   ]
  },
  {
   "cell_type": "code",
   "execution_count": null,
   "id": "d6c0eae6",
   "metadata": {},
   "outputs": [
    {
     "name": "stdout",
     "output_type": "stream",
     "text": [
      "1\n",
      "get_id :  2\n",
      "id set to :  10\n",
      "10\n",
      "11\n"
     ]
    }
   ],
   "source": [
    "# in static methods or attributes, there is no need of using self, \n",
    "# as it belongs to class, not object\n",
    "# static attributes or methods are accessed using class name, \n",
    "# as they are not accessible to object\n",
    "\n",
    "class person:\n",
    "\n",
    "    __user_id=1     #initializing\n",
    "\n",
    "    def __init__(self):\n",
    "        self.id=person.__user_id    #assigning class attribute\n",
    "        person.__user_id+=1         #updating class attribute\n",
    "\n",
    "    @staticmethod\n",
    "    def get_id():\n",
    "        return person.__user_id\n",
    "    @staticmethod\n",
    "    def set_id(val):\n",
    "        person.__user_id=val\n",
    "\n",
    "user1=person()\n",
    "print(user1.id)\n",
    "\n",
    "print(\"get_id : \",person.get_id())\n",
    "person.set_id(10)\n",
    "print(\"id set to : \", person.get_id())\n",
    "user2=person()\n",
    "print(user2.id)\n",
    "\n",
    "user3=person()\n",
    "print(user3.id)"
   ]
  },
  {
   "cell_type": "code",
   "execution_count": null,
   "id": "0d2b8166",
   "metadata": {},
   "outputs": [],
   "source": []
  }
 ],
 "metadata": {
  "kernelspec": {
   "display_name": "Python 3",
   "language": "python",
   "name": "python3"
  },
  "language_info": {
   "codemirror_mode": {
    "name": "ipython",
    "version": 3
   },
   "file_extension": ".py",
   "mimetype": "text/x-python",
   "name": "python",
   "nbconvert_exporter": "python",
   "pygments_lexer": "ipython3",
   "version": "3.11.9"
  }
 },
 "nbformat": 4,
 "nbformat_minor": 5
}
